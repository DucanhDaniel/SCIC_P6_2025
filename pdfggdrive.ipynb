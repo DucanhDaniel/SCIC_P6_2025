{
 "cells": [
  {
   "cell_type": "code",
   "execution_count": 1,
   "metadata": {},
   "outputs": [
    {
     "name": "stdout",
     "output_type": "stream",
     "text": [
      "Requirement already satisfied: google-auth in d:\\anaconda\\envs\\scic\\lib\\site-packages (2.38.0)\n",
      "Collecting google-auth-oauthlib\n",
      "  Downloading google_auth_oauthlib-1.2.1-py2.py3-none-any.whl.metadata (2.7 kB)\n",
      "Requirement already satisfied: google-auth-httplib2 in d:\\anaconda\\envs\\scic\\lib\\site-packages (0.2.0)\n",
      "Requirement already satisfied: google-api-python-client in d:\\anaconda\\envs\\scic\\lib\\site-packages (2.162.0)\n",
      "Requirement already satisfied: cachetools<6.0,>=2.0.0 in d:\\anaconda\\envs\\scic\\lib\\site-packages (from google-auth) (5.5.2)\n",
      "Requirement already satisfied: pyasn1-modules>=0.2.1 in d:\\anaconda\\envs\\scic\\lib\\site-packages (from google-auth) (0.4.1)\n",
      "Requirement already satisfied: rsa<5,>=3.1.4 in d:\\anaconda\\envs\\scic\\lib\\site-packages (from google-auth) (4.9)\n",
      "Collecting requests-oauthlib>=0.7.0 (from google-auth-oauthlib)\n",
      "  Downloading requests_oauthlib-2.0.0-py2.py3-none-any.whl.metadata (11 kB)\n",
      "Requirement already satisfied: httplib2>=0.19.0 in d:\\anaconda\\envs\\scic\\lib\\site-packages (from google-auth-httplib2) (0.22.0)\n",
      "Requirement already satisfied: google-api-core!=2.0.*,!=2.1.*,!=2.2.*,!=2.3.0,<3.0.0.dev0,>=1.31.5 in d:\\anaconda\\envs\\scic\\lib\\site-packages (from google-api-python-client) (2.24.1)\n",
      "Requirement already satisfied: uritemplate<5,>=3.0.1 in d:\\anaconda\\envs\\scic\\lib\\site-packages (from google-api-python-client) (4.1.1)\n",
      "Requirement already satisfied: googleapis-common-protos<2.0.dev0,>=1.56.2 in d:\\anaconda\\envs\\scic\\lib\\site-packages (from google-api-core!=2.0.*,!=2.1.*,!=2.2.*,!=2.3.0,<3.0.0.dev0,>=1.31.5->google-api-python-client) (1.68.0)\n",
      "Requirement already satisfied: protobuf!=3.20.0,!=3.20.1,!=4.21.0,!=4.21.1,!=4.21.2,!=4.21.3,!=4.21.4,!=4.21.5,<6.0.0.dev0,>=3.19.5 in d:\\anaconda\\envs\\scic\\lib\\site-packages (from google-api-core!=2.0.*,!=2.1.*,!=2.2.*,!=2.3.0,<3.0.0.dev0,>=1.31.5->google-api-python-client) (5.29.3)\n",
      "Requirement already satisfied: proto-plus<2.0.0dev,>=1.22.3 in d:\\anaconda\\envs\\scic\\lib\\site-packages (from google-api-core!=2.0.*,!=2.1.*,!=2.2.*,!=2.3.0,<3.0.0.dev0,>=1.31.5->google-api-python-client) (1.26.0)\n",
      "Requirement already satisfied: requests<3.0.0.dev0,>=2.18.0 in d:\\anaconda\\envs\\scic\\lib\\site-packages (from google-api-core!=2.0.*,!=2.1.*,!=2.2.*,!=2.3.0,<3.0.0.dev0,>=1.31.5->google-api-python-client) (2.32.3)\n",
      "Requirement already satisfied: pyparsing!=3.0.0,!=3.0.1,!=3.0.2,!=3.0.3,<4,>=2.4.2 in d:\\anaconda\\envs\\scic\\lib\\site-packages (from httplib2>=0.19.0->google-auth-httplib2) (3.2.1)\n",
      "Requirement already satisfied: pyasn1<0.7.0,>=0.4.6 in d:\\anaconda\\envs\\scic\\lib\\site-packages (from pyasn1-modules>=0.2.1->google-auth) (0.6.1)\n",
      "Collecting oauthlib>=3.0.0 (from requests-oauthlib>=0.7.0->google-auth-oauthlib)\n",
      "  Downloading oauthlib-3.2.2-py3-none-any.whl.metadata (7.5 kB)\n",
      "Requirement already satisfied: charset-normalizer<4,>=2 in d:\\anaconda\\envs\\scic\\lib\\site-packages (from requests<3.0.0.dev0,>=2.18.0->google-api-core!=2.0.*,!=2.1.*,!=2.2.*,!=2.3.0,<3.0.0.dev0,>=1.31.5->google-api-python-client) (3.4.1)\n",
      "Requirement already satisfied: idna<4,>=2.5 in d:\\anaconda\\envs\\scic\\lib\\site-packages (from requests<3.0.0.dev0,>=2.18.0->google-api-core!=2.0.*,!=2.1.*,!=2.2.*,!=2.3.0,<3.0.0.dev0,>=1.31.5->google-api-python-client) (3.10)\n",
      "Requirement already satisfied: urllib3<3,>=1.21.1 in d:\\anaconda\\envs\\scic\\lib\\site-packages (from requests<3.0.0.dev0,>=2.18.0->google-api-core!=2.0.*,!=2.1.*,!=2.2.*,!=2.3.0,<3.0.0.dev0,>=1.31.5->google-api-python-client) (2.3.0)\n",
      "Requirement already satisfied: certifi>=2017.4.17 in d:\\anaconda\\envs\\scic\\lib\\site-packages (from requests<3.0.0.dev0,>=2.18.0->google-api-core!=2.0.*,!=2.1.*,!=2.2.*,!=2.3.0,<3.0.0.dev0,>=1.31.5->google-api-python-client) (2025.1.31)\n",
      "Downloading google_auth_oauthlib-1.2.1-py2.py3-none-any.whl (24 kB)\n",
      "Downloading requests_oauthlib-2.0.0-py2.py3-none-any.whl (24 kB)\n",
      "Downloading oauthlib-3.2.2-py3-none-any.whl (151 kB)\n",
      "Installing collected packages: oauthlib, requests-oauthlib, google-auth-oauthlib\n",
      "Successfully installed google-auth-oauthlib-1.2.1 oauthlib-3.2.2 requests-oauthlib-2.0.0\n",
      "Note: you may need to restart the kernel to use updated packages.\n"
     ]
    }
   ],
   "source": [
    "pip install google-auth google-auth-oauthlib google-auth-httplib2 google-api-python-client\n"
   ]
  },
  {
   "cell_type": "code",
   "execution_count": 1,
   "metadata": {},
   "outputs": [],
   "source": [
    "from googleapiclient.discovery import build\n",
    "from googleapiclient.http import MediaIoBaseDownload, MediaFileUpload\n",
    "from google.oauth2 import service_account\n",
    "import io\n",
    "\n",
    "SCOPES = [\"https://www.googleapis.com/auth/drive\", \"https://www.googleapis.com/auth/documents\"]\n",
    "\n",
    "SERVICE_ACCOUNT_FILE = \"credentials.json\"\n",
    "\n",
    "def get_google_services():\n",
    "    \"\"\"Xác thực Google Docs & Google Drive API\"\"\"\n",
    "    creds = service_account.Credentials.from_service_account_file(\n",
    "        SERVICE_ACCOUNT_FILE, scopes=SCOPES\n",
    "    )\n",
    "    \n",
    "    docs_service = build(\"docs\", \"v1\", credentials=creds)\n",
    "    drive_service = build(\"drive\", \"v3\", credentials=creds)\n",
    "    \n",
    "    return docs_service, drive_service\n"
   ]
  },
  {
   "cell_type": "code",
   "execution_count": 2,
   "metadata": {},
   "outputs": [],
   "source": [
    "def create_google_doc(docs_service, text):\n",
    "    \"\"\"Tạo Google Docs mới và chèn văn bản\"\"\"\n",
    "    document = docs_service.documents().create(body={\"title\": \"Generated Document\"}).execute()\n",
    "    document_id = document[\"documentId\"]\n",
    "\n",
    "    # Chèn văn bản vào tài liệu\n",
    "    requests = [{\"insertText\": {\"location\": {\"index\": 1}, \"text\": text}}]\n",
    "    docs_service.documents().batchUpdate(documentId=document_id, body={\"requests\": requests}).execute()\n",
    "    \n",
    "    return document_id\n"
   ]
  },
  {
   "cell_type": "code",
   "execution_count": 3,
   "metadata": {},
   "outputs": [],
   "source": [
    "def export_doc_to_pdf(drive_service, document_id):\n",
    "    \"\"\"Xuất Google Docs thành PDF và lấy link tải\"\"\"\n",
    "    request = drive_service.files().export_media(fileId=document_id, mimeType=\"application/pdf\")\n",
    "    \n",
    "    pdf_filename = f\"{document_id}.pdf\"\n",
    "    with open(pdf_filename, \"wb\") as pdf_file:\n",
    "        pdf_file.write(request.execute())\n",
    "\n",
    "    return pdf_filename\n"
   ]
  },
  {
   "cell_type": "code",
   "execution_count": 4,
   "metadata": {},
   "outputs": [],
   "source": [
    "def upload_pdf_to_drive(drive_service, pdf_filename):\n",
    "    \"\"\"Upload file PDF lên Google Drive và lấy link chia sẻ\"\"\"\n",
    "    file_metadata = {\"name\": pdf_filename, \"mimeType\": \"application/pdf\"}\n",
    "    media = MediaFileUpload(pdf_filename, mimetype=\"application/pdf\")\n",
    "\n",
    "    uploaded_file = drive_service.files().create(body=file_metadata, media_body=media, fields=\"id\").execute()\n",
    "    file_id = uploaded_file.get(\"id\")\n",
    "\n",
    "    # Cấp quyền xem file cho mọi người\n",
    "    permission = {\"role\": \"reader\", \"type\": \"anyone\"}\n",
    "    drive_service.permissions().create(fileId=file_id, body=permission).execute()\n",
    "\n",
    "    # Lấy link truy cập file\n",
    "    file_link = f\"https://drive.google.com/file/d/{file_id}/view\"\n",
    "    return file_link\n"
   ]
  },
  {
   "cell_type": "code",
   "execution_count": 5,
   "metadata": {},
   "outputs": [
    {
     "name": "stdout",
     "output_type": "stream",
     "text": [
      "✅ PDF Link: https://drive.google.com/file/d/1esw5wSZ9-eG6_0fDHWRvy5erGUUQm_W2/view\n"
     ]
    }
   ],
   "source": [
    "if __name__ == \"__main__\":\n",
    "    docs_service, drive_service = get_google_services()\n",
    "    \n",
    "    # Nội dung cần xuất\n",
    "    text_content = \"This is a sample document generated using Google Docs API and converted to PDF.\"\n",
    "\n",
    "    # Bước 1: Tạo Google Docs\n",
    "    document_id = create_google_doc(docs_service, text_content)\n",
    "\n",
    "    # Bước 2: Xuất file PDF\n",
    "    pdf_file = export_doc_to_pdf(drive_service, document_id)\n",
    "\n",
    "    # Bước 3: Upload lên Google Drive & Lấy link\n",
    "    pdf_link = upload_pdf_to_drive(drive_service, pdf_file)\n",
    "\n",
    "    print(f\"✅ PDF Link: {pdf_link}\")\n"
   ]
  }
 ],
 "metadata": {
  "kernelspec": {
   "display_name": "Python 3",
   "language": "python",
   "name": "python3"
  },
  "language_info": {
   "codemirror_mode": {
    "name": "ipython",
    "version": 3
   },
   "file_extension": ".py",
   "mimetype": "text/x-python",
   "name": "python",
   "nbconvert_exporter": "python",
   "pygments_lexer": "ipython3",
   "version": "3.10.16"
  }
 },
 "nbformat": 4,
 "nbformat_minor": 2
}
